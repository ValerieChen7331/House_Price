{
 "cells": [
  {
   "cell_type": "markdown",
   "metadata": {},
   "source": [
    "# 3. Data Cleaning Address (TPE)\n",
    "資料前處理-地址   \n",
    "3_1. 文字清理   \n",
    "3_2. 統一地址格式   \n",
    "3_3. 找出錯誤資訊    \n",
    "3-4. 無法判讀的資料 (錯字)     \n",
    "3-5. 合併與統整   \n",
    "3_6. 合併gis資料"
   ]
  },
  {
   "cell_type": "code",
   "execution_count": 1,
   "metadata": {},
   "outputs": [],
   "source": [
    "#載入套件\n",
    "import numpy as np\n",
    "import pandas as pd\n",
    "%matplotlib inline\n",
    "import matplotlib\n",
    "import matplotlib.pyplot as plt\n",
    "import matplotlib.patches as mpatches\n",
    "import seaborn as sns\n",
    "import missingno as msno\n",
    "\n",
    "import nums_from_string as nfs\n",
    "import unicodedata\n",
    "#from datetime import datetime\n",
    "\n",
    "#匯入自己寫的程式\n",
    "import address_cleaning as ac\n",
    "import address_data_correction as adc\n",
    "import address_surrounding as asu"
   ]
  },
  {
   "cell_type": "code",
   "execution_count": 2,
   "metadata": {
    "scrolled": true
   },
   "outputs": [
    {
     "name": "stdout",
     "output_type": "stream",
     "text": [
      "<class 'pandas.core.frame.DataFrame'>\n",
      "RangeIndex: 151952 entries, 0 to 151951\n",
      "Data columns (total 27 columns):\n",
      " #   Column                Non-Null Count   Dtype  \n",
      "---  ------                --------------   -----  \n",
      " 0   Identifier            151952 non-null  object \n",
      " 1   Address               151952 non-null  object \n",
      " 2   District              151952 non-null  object \n",
      " 3   Type                  151952 non-null  object \n",
      " 4   UrbanZoning           151130 non-null  object \n",
      " 5   Purpose               151952 non-null  object \n",
      " 6   Material              151928 non-null  object \n",
      " 7   NumberOfTransactions  151952 non-null  object \n",
      " 8   Storeys               151637 non-null  object \n",
      " 9   Floor                 151811 non-null  object \n",
      " 10  CompletionDate        140299 non-null  float64\n",
      " 11  TransactionDate       151952 non-null  int64  \n",
      " 12  Bedrooms              151952 non-null  int64  \n",
      " 13  LivingRooms           151952 non-null  int64  \n",
      " 14  Bathrooms             151952 non-null  int64  \n",
      " 15  Partitions            151952 non-null  object \n",
      " 16  LandArea              151952 non-null  float64\n",
      " 17  TotalArea             151952 non-null  float64\n",
      " 18  PrimaryArea           151952 non-null  float64\n",
      " 19  AuxiliaryArea         151952 non-null  float64\n",
      " 20  BalconyArea           151952 non-null  float64\n",
      " 21  ParkingArea           151952 non-null  float64\n",
      " 22  Elevator              45781 non-null   object \n",
      " 23  Management            151952 non-null  object \n",
      " 24  TotalPrice            151952 non-null  int64  \n",
      " 25  UnitPrice             151933 non-null  float64\n",
      " 26  ParkingSpacePrice     151952 non-null  int64  \n",
      "dtypes: float64(8), int64(6), object(13)\n",
      "memory usage: 31.3+ MB\n"
     ]
    }
   ],
   "source": [
    "df = pd.read_csv('2_data_selection.csv', low_memory=False)\n",
    "#df.head()\n",
    "df.info()"
   ]
  },
  {
   "cell_type": "markdown",
   "metadata": {},
   "source": [
    "# 3-1. 文字清理 \n",
    "清理原始資料(df)   \n",
    "step1. 全形轉半形   \n",
    "step2. 補上OO市OO區   \n",
    "step3. 地址到\"樓\""
   ]
  },
  {
   "cell_type": "code",
   "execution_count": 3,
   "metadata": {},
   "outputs": [
    {
     "name": "stdout",
     "output_type": "stream",
     "text": [
      "缺失值數量: 0\n",
      "Cleaning address text...\n",
      "Finish!\n",
      "Missing city: 17847,  Split_樓: 138651,  Split_及/;: 54\n",
      "缺失值數量: 0\n"
     ]
    }
   ],
   "source": [
    "df = ac.address_text(df, '台北市', 1)"
   ]
  },
  {
   "cell_type": "code",
   "execution_count": 4,
   "metadata": {},
   "outputs": [],
   "source": [
    "df.to_csv('address_text.csv', encoding='utf-8-sig', index=False)"
   ]
  },
  {
   "cell_type": "markdown",
   "metadata": {},
   "source": [
    "# 3-2. 統一地址格式\n",
    "清理新表(data)    \n",
    "step1. 建立新表data，將地址切詞後存入   \n",
    "step2. 一個個欄位清理內文，將數字統一成中文/阿拉伯數字   \n",
    "step3. \"號\": 保留第一項 (3之4號->3號)，\"樓\": 保留最後一項 (1至4樓->4樓)   "
   ]
  },
  {
   "cell_type": "code",
   "execution_count": 5,
   "metadata": {},
   "outputs": [],
   "source": [
    "df = pd.read_csv('address_text.csv', low_memory=False)"
   ]
  },
  {
   "cell_type": "code",
   "execution_count": 6,
   "metadata": {},
   "outputs": [
    {
     "name": "stdout",
     "output_type": "stream",
     "text": [
      "Address Creat a dataframe and clean it...\n",
      "step1. Parse address data...\n",
      "finished step1\n",
      "step2. Format address numbers (Chinese/Arabic)...\n",
      "finished step2\n",
      "step3. Cleaning the text of each segments...\n",
      "finished step3\n",
      "Finish!\n"
     ]
    }
   ],
   "source": [
    "data = ac.address_creat_dataframe(df)"
   ]
  },
  {
   "cell_type": "code",
   "execution_count": 7,
   "metadata": {},
   "outputs": [],
   "source": [
    "data.to_csv('address_creat_dataframe.csv', encoding='utf-8-sig', index=False)"
   ]
  },
  {
   "cell_type": "markdown",
   "metadata": {},
   "source": [
    "# 3-3. 找出錯誤資訊\n",
    "地址內的'OO區'與欄位'District'不同，需查證 (新表data)   \n",
    "step1. 根據郵局網站資料，建立\"區\"與\"路名\"的字典   \n",
    "step2. 比對郵局資料，修正District "
   ]
  },
  {
   "cell_type": "code",
   "execution_count": 8,
   "metadata": {},
   "outputs": [],
   "source": [
    "#df = pd.read_csv('address_creat_dataframe.csv', low_memory=False)"
   ]
  },
  {
   "cell_type": "code",
   "execution_count": 9,
   "metadata": {},
   "outputs": [
    {
     "name": "stdout",
     "output_type": "stream",
     "text": [
      "Find the rows where \"District\" and \"addr_district\" do not match...\n",
      "step1. Making dict_road...\n",
      "finish step1\n",
      "Error: '公館路'\n",
      "北投區 士林區 公館路\n",
      "Error: '公館路'\n",
      "北投區 士林區 公館路\n",
      "Finish!\n",
      "district_error count: 267\n",
      "post: 0, orig: 247, addr: 2, unknown: 16\n"
     ]
    }
   ],
   "source": [
    "# Find Incorrect Information\n",
    "# (a) The district in the 'Address' column does not match the 'District' column (requiring verification)\n",
    "data = adc.address_district_error(data)\n",
    "data.to_csv('address_district_error.csv', encoding='utf-8-sig', index=False)"
   ]
  },
  {
   "cell_type": "markdown",
   "metadata": {},
   "source": [
    "# 3-4. 無法判讀的資料 (錯字)\n",
    "處理無法判讀的資料 (新表data)   \n",
    "step1. 處理常見錯字: \"公舘路\" and \"公館街\"    \n",
    "step2. 根據郵局網站資料，建立\"路名\"與\"區\"的字典   \n",
    "step3. 有亂碼的路名，對應字典修正      \n",
    "step4. 檢查不在字典中的路名 (通常為錯字)   \n",
    "step5. 錯字與路名更正 ('軍功路'更名為'和平東路四段')"
   ]
  },
  {
   "cell_type": "code",
   "execution_count": 10,
   "metadata": {},
   "outputs": [],
   "source": [
    "data = pd.read_csv('address_district_error.csv', low_memory=False)"
   ]
  },
  {
   "cell_type": "code",
   "execution_count": 11,
   "metadata": {},
   "outputs": [
    {
     "name": "stdout",
     "output_type": "stream",
     "text": [
      "Correcting the misspelled road names...\n",
      "step1. Formatng \"公舘路\" and \"公館街\"...\n",
      "finish step1!\n",
      "step2. Make a dictionary of districts...\n",
      "finish step2!\n",
      "step3. Find the correct road names...\n",
      "finish step3!\n",
      "Finish!\n"
     ]
    }
   ],
   "source": [
    "# (b) Misspelled or missing characters, which make the text unreadable\n",
    "data['road'].replace('ㄧ', '一', inplace=True)\n",
    "data = adc.address_misspelled(data)"
   ]
  },
  {
   "cell_type": "code",
   "execution_count": 12,
   "metadata": {},
   "outputs": [],
   "source": [
    "data.to_csv('address_misspelle.csv', encoding='utf-8-sig', index=False)"
   ]
  },
  {
   "cell_type": "code",
   "execution_count": 13,
   "metadata": {},
   "outputs": [
    {
     "name": "stdout",
     "output_type": "stream",
     "text": [
      "Check the roads not in postal data...\n",
      "unique roads to be checked: 60\n",
      "total number of rows to be checked: 82\n",
      "Finish. Save the datas as data_check.csv\n"
     ]
    }
   ],
   "source": [
    "data = pd.read_csv('address_misspelle.csv', low_memory=False)\n",
    "rows_to_check, rows_to_check_list = adc.find_not_post(data)"
   ]
  },
  {
   "cell_type": "code",
   "execution_count": 14,
   "metadata": {
    "scrolled": true
   },
   "outputs": [
    {
     "data": {
      "text/plain": [
       "{'中山北路',\n",
       " '內湖路',\n",
       " '內胡路二段',\n",
       " '六段',\n",
       " '南京南路五段',\n",
       " '南京東路',\n",
       " '南路三段',\n",
       " '塔攸路',\n",
       " '安康街',\n",
       " '幸亥路三段',\n",
       " '康欒街',\n",
       " '廷吉街',\n",
       " '忠孝東五段',\n",
       " '忠孝東六段',\n",
       " '忠誠路ㄧ段',\n",
       " '承德路',\n",
       " '政大二路',\n",
       " '文德街',\n",
       " '文林路一段',\n",
       " '文湖路',\n",
       " '文湖路二段',\n",
       " '新北路二段',\n",
       " '新生北路',\n",
       " '新興街',\n",
       " '木新路',\n",
       " '木柵路ㄧ段',\n",
       " '民全東路六段',\n",
       " '民權東路',\n",
       " '民權東路陸段',\n",
       " '民生東路',\n",
       " '永吉路三段',\n",
       " '汀洲路ㄧ段',\n",
       " '汀洲路一段',\n",
       " '汀洲路二段',\n",
       " '溪州街',\n",
       " '直興段',\n",
       " '研究院二段',\n",
       " '研究院路',\n",
       " '社中路',\n",
       " '福洲街',\n",
       " '福港路',\n",
       " '立農街',\n",
       " '紹安街',\n",
       " '羅斯福二段',\n",
       " '羅斯福路',\n",
       " '興南路',\n",
       " '螺斯福路三段',\n",
       " '複興南路二段',\n",
       " '褔林路',\n",
       " '西園路',\n",
       " '西安路二段',\n",
       " '豐年路',\n",
       " '貴陽路二段',\n",
       " '路二段',\n",
       " '路五段',\n",
       " '還山路二段',\n",
       " '重慶北路',\n",
       " '錦洲街',\n",
       " '門街',\n",
       " '麗山路'}"
      ]
     },
     "execution_count": 14,
     "metadata": {},
     "output_type": "execute_result"
    }
   ],
   "source": [
    "set(rows_to_check_list)"
   ]
  },
  {
   "cell_type": "code",
   "execution_count": 15,
   "metadata": {
    "scrolled": true
   },
   "outputs": [
    {
     "name": "stdout",
     "output_type": "stream",
     "text": [
      "Correcting the misspelled roads...\n",
      "finish step5\n",
      "Check the roads not in postal data...\n",
      "unique roads to be checked: 52\n",
      "total number of rows to be checked: 66\n",
      "Finish. Save the datas as data_check.csv\n"
     ]
    },
    {
     "data": {
      "text/plain": [
       "{'中山北路',\n",
       " '內湖路',\n",
       " '內胡路二段',\n",
       " '六段',\n",
       " '南京南路五段',\n",
       " '南京東路',\n",
       " '南路三段',\n",
       " '塔攸路',\n",
       " '安康街',\n",
       " '幸亥路三段',\n",
       " '康欒街',\n",
       " '廷吉街',\n",
       " '忠孝東五段',\n",
       " '忠孝東六段',\n",
       " '承德路',\n",
       " '政大二路',\n",
       " '文德街',\n",
       " '文林路一段',\n",
       " '文湖路',\n",
       " '文湖路二段',\n",
       " '新北路二段',\n",
       " '新生北路',\n",
       " '新興街',\n",
       " '木新路',\n",
       " '民全東路六段',\n",
       " '民權東路',\n",
       " '民權東路陸段',\n",
       " '民生東路',\n",
       " '永吉路三段',\n",
       " '直興段',\n",
       " '研究院二段',\n",
       " '研究院路',\n",
       " '社中路',\n",
       " '福港路',\n",
       " '立農街',\n",
       " '紹安街',\n",
       " '羅斯福二段',\n",
       " '羅斯福路',\n",
       " '興南路',\n",
       " '螺斯福路三段',\n",
       " '複興南路二段',\n",
       " '褔林路',\n",
       " '西園路',\n",
       " '西安路二段',\n",
       " '豐年路',\n",
       " '貴陽路二段',\n",
       " '路二段',\n",
       " '路五段',\n",
       " '還山路二段',\n",
       " '重慶北路',\n",
       " '門街',\n",
       " '麗山路'}"
      ]
     },
     "execution_count": 15,
     "metadata": {},
     "output_type": "execute_result"
    }
   ],
   "source": [
    "data = adc.misspelled_roads(data)\n",
    "rows_to_check, rows_to_check_list = adc.find_not_post(data)\n",
    "set(rows_to_check_list)"
   ]
  },
  {
   "cell_type": "code",
   "execution_count": 16,
   "metadata": {},
   "outputs": [],
   "source": [
    "data.to_csv('address_misspelle.csv', encoding='utf-8-sig', index=False)"
   ]
  },
  {
   "cell_type": "markdown",
   "metadata": {},
   "source": [
    "# 3-5. 合併與統整\n",
    "將新表data的資料，合併到原資料df裡"
   ]
  },
  {
   "cell_type": "code",
   "execution_count": 4,
   "metadata": {},
   "outputs": [],
   "source": [
    "df = pd.read_csv('address_text.csv', low_memory=False)\n",
    "data = pd.read_csv('address_misspelle.csv', low_memory=False)"
   ]
  },
  {
   "cell_type": "code",
   "execution_count": 5,
   "metadata": {},
   "outputs": [
    {
     "name": "stdout",
     "output_type": "stream",
     "text": [
      "Address format...\n",
      "Drop addresses that cannot be recognized...\n",
      "Drop: 20\n",
      "Finish!\n"
     ]
    }
   ],
   "source": [
    "df = adc.address_format_to_all(df, data)"
   ]
  },
  {
   "cell_type": "code",
   "execution_count": 6,
   "metadata": {},
   "outputs": [],
   "source": [
    "# Drop the 'District' column\n",
    "df.drop(['District'], axis=1, inplace=True)\n",
    "df.rename(columns={'addr_district': 'District'}, inplace=True)"
   ]
  },
  {
   "cell_type": "code",
   "execution_count": 7,
   "metadata": {},
   "outputs": [],
   "source": [
    "df.to_csv('address_format_to_all.csv', encoding='utf-8-sig', index=False)"
   ]
  },
  {
   "cell_type": "markdown",
   "metadata": {},
   "source": [
    "# 3-6. \"地域環境\"資料"
   ]
  },
  {
   "cell_type": "code",
   "execution_count": 2,
   "metadata": {},
   "outputs": [],
   "source": [
    "#df = pd.read_csv('address_format_to_all.csv', low_memory=False)"
   ]
  },
  {
   "cell_type": "code",
   "execution_count": 3,
   "metadata": {},
   "outputs": [
    {
     "name": "stdout",
     "output_type": "stream",
     "text": [
      "Convert Addresses to Latitude and Longitude...\n",
      "Before--df.shape: (151932, 30)\n",
      "Duplicate IDs: 0\n",
      "Finish!\n",
      "After--df.shape: (151932, 32)\n"
     ]
    }
   ],
   "source": [
    "df = asu.coordinates(df)"
   ]
  },
  {
   "cell_type": "code",
   "execution_count": 4,
   "metadata": {},
   "outputs": [
    {
     "name": "stdout",
     "output_type": "stream",
     "text": [
      "Merge with Surrounding DataFrames (500m Radius)...\n",
      "Before--df.shape: (151932, 32)\n",
      "Num_NIMBY (number of duplicate IDs): 0\n",
      "Num_Hospital (number of duplicate IDs): 0\n",
      "Num_Metro (number of duplicate IDs): 0\n",
      "Num_Railway (number of duplicate IDs): 0\n",
      "Num_Primary_School (number of duplicate IDs): 0\n",
      "Num_Sec_School (number of duplicate IDs): 0\n",
      "Finish!\n",
      "After--df.shape: (151932, 38)\n"
     ]
    }
   ],
   "source": [
    "df = asu.surroundings_500m(df)"
   ]
  },
  {
   "cell_type": "code",
   "execution_count": 5,
   "metadata": {},
   "outputs": [
    {
     "name": "stdout",
     "output_type": "stream",
     "text": [
      "Merge with Surrounding DataFrames (Nearest)...\n",
      "Before--df.shape: (151932, 38)\n",
      "NIMBY_Station (number of duplicate IDs): 0\n",
      "Hospital (number of duplicate IDs): 0\n",
      "Metro_Station (number of duplicate IDs): 0\n",
      "Railway (number of duplicate IDs): 0\n",
      "Primary_School (number of duplicate IDs): 0\n",
      "Secondary_School (number of duplicate IDs): 0\n",
      "Finish!\n",
      "After--df.shape: (151932, 50)\n"
     ]
    }
   ],
   "source": [
    "df = asu.surroundings_nearest(df)\n",
    "#df.to_csv('surroundings_nearest.csv', encoding='utf-8-sig', index=False)"
   ]
  },
  {
   "cell_type": "code",
   "execution_count": 8,
   "metadata": {},
   "outputs": [
    {
     "name": "stdout",
     "output_type": "stream",
     "text": [
      "UrbanZoning          822\n",
      "Material              24\n",
      "Storeys              315\n",
      "Floor                141\n",
      "CompletionDate     11651\n",
      "Elevator          106151\n",
      "UnitPrice             19\n",
      "addr_floor         13331\n",
      "dtype: int64\n"
     ]
    }
   ],
   "source": [
    "#查看各欄位缺失植數量\n",
    "missing_values = df.isna().sum()\n",
    "missing_value_true = missing_values[missing_values > 1]\n",
    "print(missing_value_true)"
   ]
  },
  {
   "cell_type": "code",
   "execution_count": 9,
   "metadata": {
    "scrolled": true
   },
   "outputs": [
    {
     "name": "stdout",
     "output_type": "stream",
     "text": [
      "<class 'pandas.core.frame.DataFrame'>\n",
      "RangeIndex: 151932 entries, 0 to 151931\n",
      "Data columns (total 50 columns):\n",
      " #   Column                Non-Null Count   Dtype  \n",
      "---  ------                --------------   -----  \n",
      " 0   Identifier            151932 non-null  object \n",
      " 1   Address               151932 non-null  object \n",
      " 2   Type                  151932 non-null  object \n",
      " 3   UrbanZoning           151110 non-null  object \n",
      " 4   Purpose               151932 non-null  object \n",
      " 5   Material              151908 non-null  object \n",
      " 6   NumberOfTransactions  151932 non-null  object \n",
      " 7   Storeys               151617 non-null  object \n",
      " 8   Floor                 151791 non-null  object \n",
      " 9   CompletionDate        140281 non-null  float64\n",
      " 10  TransactionDate       151932 non-null  int64  \n",
      " 11  Bedrooms              151932 non-null  int64  \n",
      " 12  LivingRooms           151932 non-null  int64  \n",
      " 13  Bathrooms             151932 non-null  int64  \n",
      " 14  Partitions            151932 non-null  object \n",
      " 15  LandArea              151932 non-null  float64\n",
      " 16  TotalArea             151932 non-null  float64\n",
      " 17  PrimaryArea           151932 non-null  float64\n",
      " 18  AuxiliaryArea         151932 non-null  float64\n",
      " 19  BalconyArea           151932 non-null  float64\n",
      " 20  ParkingArea           151932 non-null  float64\n",
      " 21  Elevator              45781 non-null   object \n",
      " 22  Management            151932 non-null  object \n",
      " 23  TotalPrice            151932 non-null  int64  \n",
      " 24  UnitPrice             151913 non-null  float64\n",
      " 25  ParkingSpacePrice     151932 non-null  int64  \n",
      " 26  Address_gis           151932 non-null  object \n",
      " 27  District              151932 non-null  object \n",
      " 28  addr_floor            138601 non-null  object \n",
      " 29  addr_short            151932 non-null  object \n",
      " 30  Latitude              151932 non-null  float64\n",
      " 31  Longitude             151932 non-null  float64\n",
      " 32  Num_NIMBY             151932 non-null  int64  \n",
      " 33  Num_Hospital          151932 non-null  int64  \n",
      " 34  Num_Metro             151932 non-null  int64  \n",
      " 35  Num_Railway           151932 non-null  int64  \n",
      " 36  Num_Primary_School    151932 non-null  int64  \n",
      " 37  Num_Sec_School        151932 non-null  int64  \n",
      " 38  NIMBY_Station         151932 non-null  object \n",
      " 39  NIMBY_Dist            151932 non-null  float64\n",
      " 40  Hospital              151932 non-null  object \n",
      " 41  Hospital_Dist         151932 non-null  float64\n",
      " 42  Metro_Station         151932 non-null  object \n",
      " 43  Metro_Dist            151932 non-null  float64\n",
      " 44  Railway               151932 non-null  object \n",
      " 45  Railway_Dist          151932 non-null  float64\n",
      " 46  Primary_School        151932 non-null  object \n",
      " 47  Primary_Dist          151932 non-null  float64\n",
      " 48  Secondary_School      151932 non-null  object \n",
      " 49  Sec_Dist              151932 non-null  float64\n",
      "dtypes: float64(16), int64(12), object(22)\n",
      "memory usage: 58.0+ MB\n"
     ]
    }
   ],
   "source": [
    "df.info()"
   ]
  },
  {
   "cell_type": "code",
   "execution_count": 10,
   "metadata": {},
   "outputs": [],
   "source": [
    "df.to_csv('3_data_cleaning_address.csv', encoding='utf-8-sig', index=False)"
   ]
  },
  {
   "cell_type": "code",
   "execution_count": null,
   "metadata": {},
   "outputs": [],
   "source": []
  }
 ],
 "metadata": {
  "kernelspec": {
   "display_name": "Python 3 (ipykernel)",
   "language": "python",
   "name": "python3"
  },
  "language_info": {
   "codemirror_mode": {
    "name": "ipython",
    "version": 3
   },
   "file_extension": ".py",
   "mimetype": "text/x-python",
   "name": "python",
   "nbconvert_exporter": "python",
   "pygments_lexer": "ipython3",
   "version": "3.9.13"
  }
 },
 "nbformat": 4,
 "nbformat_minor": 4
}
